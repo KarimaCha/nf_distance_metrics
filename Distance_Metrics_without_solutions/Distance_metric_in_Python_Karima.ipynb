{
 "cells": [
  {
   "cell_type": "code",
   "execution_count": 1,
   "metadata": {},
   "outputs": [],
   "source": [
    "import numpy as np"
   ]
  },
  {
   "cell_type": "code",
   "execution_count": 2,
   "metadata": {},
   "outputs": [],
   "source": [
    "point_1 = (2, 3, 5)\n",
    "point_2 = (1, -1, 3)\n",
    "\n",
    "manhattan_distance = 0\n",
    "for i in range(3):\n",
    "    manhattan_distance += np.abs(point_1[i] - point_2[i]) \n",
    "    \n",
    "manhattan_distance"
   ]
  },
  {
   "cell_type": "code",
   "execution_count": 13,
   "metadata": {},
   "outputs": [
    {
     "data": {
      "text/plain": [
       "7"
      ]
     },
     "execution_count": 13,
     "metadata": {},
     "output_type": "execute_result"
    }
   ],
   "source": [
    "# or in one line with list comprehension:\n",
    "sum([np.abs(xi-yi) for xi, yi in zip(point_1, point_2)])"
   ]
  },
  {
   "cell_type": "code",
   "execution_count": 4,
   "metadata": {},
   "outputs": [
    {
     "data": {
      "text/plain": [
       "4.58257569495584"
      ]
     },
     "execution_count": 4,
     "metadata": {},
     "output_type": "execute_result"
    }
   ],
   "source": [
    "point_1 = (2, 3, 5)\n",
    "point_2 = (1, -1, 3)\n",
    "\n",
    "euclidean_distance = 0\n",
    "for i in range(3):\n",
    "    euclidean_distance += (point_1[i] - point_2[i])**2\n",
    "\n",
    "euclidean_distance = np.sqrt(euclidean_distance)\n",
    "\n",
    "euclidean_distance "
   ]
  },
  {
   "cell_type": "code",
   "execution_count": 12,
   "metadata": {},
   "outputs": [
    {
     "data": {
      "text/plain": [
       "4.58257569495584"
      ]
     },
     "execution_count": 12,
     "metadata": {},
     "output_type": "execute_result"
    }
   ],
   "source": [
    "# or with list comprehension in one line:\n",
    "np.sqrt(sum([(xi-yi)**2 for xi, yi in zip(point_1, point_2)]))"
   ]
  },
  {
   "cell_type": "code",
   "execution_count": 18,
   "metadata": {},
   "outputs": [
    {
     "data": {
      "text/plain": [
       "4.179339196381232"
      ]
     },
     "execution_count": 18,
     "metadata": {},
     "output_type": "execute_result"
    }
   ],
   "source": [
    "# let's write a distance function based on Minkowski formula, which can be used for different p\n",
    "def my_distance(point_1, point_2, p=2):\n",
    "    return sum([np.abs(xi-yi)**p for xi, yi in zip(point_1, point_2)]) ** (1/p)\n",
    "\n",
    "my_distance(point_1, point_2, p=3)"
   ]
  },
  {
   "cell_type": "markdown",
   "metadata": {},
   "source": [
    "### Manhattan Distance is the sum of all side lengths to the first power\n",
    "manhattan_distance = (length_side_1 + length_side2 + ... length_side_n)**1  \n",
    "\n",
    "### Euclidean Distance is the square root of the sum of all side lengths to the second power\n",
    "euclidean_distance = np.sqrt((length_side_1 + length_side2 + ... length_side_n)*2)\n",
    "\n",
    "### Minkowski Distance with a value of 3 would be the cube root of the sum of all side lengths to the third power\n",
    "minkowski_distance_3 = np.cbrt((length_side_1 + length_side2 + ... length_side_n)**3)\n",
    "\n",
    "### Minkowski Distance with a value of 5\n",
    "mink_distance_5 = np.power((length_side_1 + length_side2 + ... length_side_n)**5, 1./5)"
   ]
  }
 ],
 "metadata": {
  "kernelspec": {
   "display_name": "Python 3",
   "language": "python",
   "name": "python3"
  },
  "language_info": {
   "codemirror_mode": {
    "name": "ipython",
    "version": 3
   },
   "file_extension": ".py",
   "mimetype": "text/x-python",
   "name": "python",
   "nbconvert_exporter": "python",
   "pygments_lexer": "ipython3",
   "version": "3.6.6"
  }
 },
 "nbformat": 4,
 "nbformat_minor": 2
}
